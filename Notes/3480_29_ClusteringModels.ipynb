{
 "cells": [
  {
   "cell_type": "markdown",
   "metadata": {},
   "source": [
    "# Clustering\n",
    "* Hard Clustering\n",
    "* Soft Clustering"
   ]
  },
  {
   "cell_type": "markdown",
   "metadata": {},
   "source": [
    "# Clustering Evaluation\n",
    "The performance of a cluster model can't be evaluated as Supervised models, which compare the model's results with pre-labeled data. However, clustering models are unsupervised, so generally have no pre-labeled to compare.\n",
    "\n",
    "The secret will be to look at qualities of the clusters formed by the model. For example, how big are the clusters? How does the distribution of one cluster compare to other clusters? Here, we will look at external indices and internal indices.\n",
    "* An __external index__ looks at the distribution and boundaries of one cluster to those of other clusters. This means we generally base the evaluation on a known cluster structure (labels).\n",
    "* An __internal index__ looks at the individual cluster without any external information. This is not dependent on any pre-known structure.\n",
    "\n",
    "A few possible evaluations:\n",
    "* Within-Cluster Sum of Squares and the Elbow Method\n",
    "* Silhouette index\n",
    "* Dunn index\n",
    "* R-squared index\n",
    "* Davies-Bouldin index\n",
    "* Hartigan index\n",
    "* Root-mean-square standard deviation (RMSSTD)\n",
    "\n",
    "Goals:\n",
    "1. Minimize distance between points in a cluster\n",
    "2. Maximize distance between clusters\n",
    "\n",
    "Resources\n",
    "* https://www.analyticsvidhya.com/blog/2020/10/quick-guide-to-evaluation-metrics-for-supervised-and-unsupervised-machine-learning/#:~:text=The%20two%20most%20popular%20evaluation,which%20you%20will%20explore%20next.&text=The%20Silhouette%20Coefficient%20is%20defined,points%20in%20the%20same%20cluster.\n",
    "* https://stats.stackexchange.com/questions/21807/evaluation-measures-of-goodness-or-validity-of-clustering-without-having-truth\n",
    "* [YouTube: DataScience A-Z for Beginners and Advance: Part 41 How to Choose the Number of Clusters](https://www.youtube.com/watch?v=FqIGui0rwh4)"
   ]
  },
  {
   "cell_type": "markdown",
   "metadata": {},
   "source": [
    "* External In"
   ]
  },
  {
   "cell_type": "markdown",
   "metadata": {},
   "source": [
    "## WCSS and the Elbow Method"
   ]
  },
  {
   "cell_type": "code",
   "execution_count": null,
   "metadata": {},
   "outputs": [],
   "source": [
    "num_clusters = []\n",
    "wcss = []\n",
    "\n",
    "for k in range(1, 10):\n",
    "    kmeans = KMeans(n_clusters=k)\n",
    "    kmeans.fit(X)\n",
    "    num_clusters.append(k)\n",
    "    wcss.append(kmeans.inertia_)\n",
    "\n",
    "plt.plot(num_clusters,wcss)\n",
    "plt.yscale('log') # sets y-axis to a logarithmic scale to emphasize change in slope\n",
    "plt.title('The Elbow Method')\n",
    "plt.xlabel('Number of Clusters')\n",
    "plt.ylabel('Within-Cluster Sum of Squares')\n",
    "plt.show()"
   ]
  }
 ],
 "metadata": {
  "kernelspec": {
   "display_name": "MachineLearning",
   "language": "python",
   "name": "python3"
  },
  "language_info": {
   "name": "python",
   "version": "3.9.14"
  }
 },
 "nbformat": 4,
 "nbformat_minor": 2
}
