{
 "cells": [
  {
   "cell_type": "markdown",
   "id": "f35840eb-9339-410f-80ef-70941906746a",
   "metadata": {},
   "source": [
    "# Lecture 15 Different Neural Networks\n",
    "__MATH 3480__ - Dr. Michael Olson\n",
    "\n",
    "Reading:\n",
    "* Geron, Chapter 10\n",
    "* [Brunton](https://faculty.washington.edu/sbrunton/DataBookV2.pdf), Chapter 6\n",
    "\n",
    "Outline\n",
    "* Feed Forward\n",
    "* Complex Models\n",
    "* Recurrent Neural Network (RNN) ([Brunton](https://faculty.washington.edu/sbrunton/DataBookV2.pdf), Figure 6.18a, p. 294)\n",
    "  * Good for data with a time sequence\n",
    "  * Creates time delays and/or feedback loops\n",
    "  * Long-short term memory (LSTM) networks and Gated recurrent units (GRU)\n",
    "    * LSTM revolutionized speech recognition\n",
    "* Convolutional Neural Networks (CNN)\n",
    "* "
   ]
  },
  {
   "cell_type": "code",
   "execution_count": null,
   "id": "2f9c1718-0884-4ef8-a0fd-e5d4da97776a",
   "metadata": {},
   "outputs": [],
   "source": []
  }
 ],
 "metadata": {
  "kernelspec": {
   "display_name": "ML",
   "language": "python",
   "name": "ml"
  },
  "language_info": {
   "codemirror_mode": {
    "name": "ipython",
    "version": 3
   },
   "file_extension": ".py",
   "mimetype": "text/x-python",
   "name": "python",
   "nbconvert_exporter": "python",
   "pygments_lexer": "ipython3",
   "version": "3.9.16"
  }
 },
 "nbformat": 4,
 "nbformat_minor": 5
}
