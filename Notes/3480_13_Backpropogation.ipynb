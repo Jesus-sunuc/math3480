{
 "cells": [
  {
   "cell_type": "markdown",
   "metadata": {},
   "source": [
    "# Lecture 13 Backpropogation\n",
    "__MATH 3480__ - Dr. Michael Olson\n",
    "\n",
    "Reading:\n",
    "* Geron, Chapter 11\n",
    "* Brunton, Chapter 6"
   ]
  },
  {
   "cell_type": "markdown",
   "metadata": {},
   "source": [
    "## Preliminaries\n",
    "* Create a separate virtual environment\n",
    "  * Some of the packages in Tensorflow don't play nicely with other packages\n",
    "* Install Tensorflow"
   ]
  },
  {
   "cell_type": "markdown",
   "metadata": {},
   "source": [
    "## A conceptual description"
   ]
  },
  {
   "cell_type": "markdown",
   "metadata": {},
   "source": [
    "To describe how we train a Neural Network, let's use a more concrete example. A common example to use is the MNIST dataset of 70,000 handwritten numbers.\n",
    "\n",
    "![MNIST Dataset](https://upload.wikimedia.org/wikipedia/commons/f/f7/MnistExamplesModified.png)\n",
    "\n",
    "If we set each image with a resolution of 28x28, then that is 784 pixels, so our input layer has 784 nodes. The output layer would have 10 nodes, one for each digit, and the value of each node would be the probability that the number in the image is the number the node represents.\n",
    "\n",
    "To train this model better, let's add 2 hidden layers with 16 nodes each. Following is a step-through of the training process.\n",
    "1. Initially, all the weights connecting nodes from one layer to the next are random\n",
    "2. If we run the first image through the network, we will get a series of probabilities that the image is of that number (this is called a __forward pass__)\n",
    "    * With this first run, the results will be very poor\n",
    "3. Compare these results with the true value\n",
    "    * This gives an indication if the result needs to increase or decrease\n",
    "4. Look at the previous layer\n",
    "    * If any nodes are pushing the output value to the correct result, we want to strengthen it\n",
    "    * If any nodes are pushing the output value to the incorrect result, we want to weaken it\n",
    "5. Run this for all the images\n",
    "    * The average of the changes we calculated in (4) indicate how much the nodes and weights need to change\n",
    "    * To change the nodes and weights, follow steps 2-5 for the previous layer (This is called a __reverse pass__)\n",
    "\n",
    "After this, do it again, multiple times. Eventually, the changes to each weight will be minor. At that point, the network is well trained.\n",
    "\n",
    "There is a problem, however. With 70,000 images, this will take a lot of time. A solution is to take a random sample of images (a mini-batch) and run that through the network. After the first forward- and reverse passes, we update the weights and take another sample and do the same with the new mini-batch."
   ]
  },
  {
   "cell_type": "code",
   "execution_count": null,
   "metadata": {},
   "outputs": [],
   "source": []
  }
 ],
 "metadata": {
  "kernelspec": {
   "display_name": "Python3.9 (NeuralNets)",
   "language": "python",
   "name": "neuralnets"
  },
  "language_info": {
   "codemirror_mode": {
    "name": "ipython",
    "version": 3
   },
   "file_extension": ".py",
   "mimetype": "text/x-python",
   "name": "python",
   "nbconvert_exporter": "python",
   "pygments_lexer": "ipython3",
   "version": "3.9.10"
  }
 },
 "nbformat": 4,
 "nbformat_minor": 4
}
