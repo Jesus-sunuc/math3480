{
 "cells": [
  {
   "cell_type": "markdown",
   "id": "9a1bb562-e5ba-4486-ad30-6ccf9afd80a7",
   "metadata": {},
   "source": [
    "# Notes on different libraries\n",
    "## Matplotlib\n",
    "\n",
    "## Seaborn"
   ]
  },
  {
   "cell_type": "markdown",
   "id": "8867b35b-fc89-44e8-9c1e-a22687b6818e",
   "metadata": {},
   "source": [
    "### Seaborn Dual plots"
   ]
  },
  {
   "cell_type": "code",
   "execution_count": null,
   "id": "68f1abd4-ebe9-4269-a0f4-50c744ce64c6",
   "metadata": {},
   "outputs": [],
   "source": [
    "plt.figure(figsize=(12,6))\n",
    "sns.lmplot(data = df, x = 'x_var', y = 'y-var', hue = 'hue-var',\n",
    "           col = 'separated-var')"
   ]
  },
  {
   "cell_type": "markdown",
   "id": "1e76962e",
   "metadata": {},
   "source": [
    "# Countplot"
   ]
  },
  {
   "cell_type": "code",
   "execution_count": null,
   "id": "d5419881",
   "metadata": {},
   "outputs": [],
   "source": [
    "# Seaborn\n",
    "sns.countplot(data=loans, x='purpose', hue='not.fully.paid')"
   ]
  },
  {
   "cell_type": "markdown",
   "id": "fbadca6f",
   "metadata": {},
   "source": [
    "# Histograms"
   ]
  },
  {
   "cell_type": "code",
   "execution_count": null,
   "id": "c74f9052",
   "metadata": {},
   "outputs": [],
   "source": [
    "# Matplotlib"
   ]
  },
  {
   "cell_type": "code",
   "execution_count": null,
   "id": "f150d318",
   "metadata": {},
   "outputs": [],
   "source": [
    "# Pandas"
   ]
  },
  {
   "cell_type": "code",
   "execution_count": null,
   "id": "a25b0f0e-1367-468e-957d-70c0ce948201",
   "metadata": {},
   "outputs": [],
   "source": [
    "# Seaborn\n",
    "sns.histplot(data=loans, x='fico', hue='credit.policy', kde=True)"
   ]
  },
  {
   "cell_type": "markdown",
   "id": "5bb0799f",
   "metadata": {},
   "source": [
    "# Linear Regression"
   ]
  },
  {
   "cell_type": "code",
   "execution_count": null,
   "id": "1ac60f60",
   "metadata": {},
   "outputs": [],
   "source": [
    "# Seaborn\n",
    "sns.lmplot(data=loans, x='fico', y='int.rate', hue='not.fully.paid')"
   ]
  },
  {
   "cell_type": "markdown",
   "id": "3fccc473",
   "metadata": {},
   "source": [
    "# Jointplot"
   ]
  },
  {
   "cell_type": "code",
   "execution_count": null,
   "id": "fdbc498b-6e93-46d5-8815-b5a633ac5164",
   "metadata": {},
   "outputs": [],
   "source": [
    "# Seaborn\n",
    "sns.jointplot(data=loans, x='fico', y='int.rate')"
   ]
  },
  {
   "cell_type": "code",
   "execution_count": null,
   "id": "c5b0707e-71d1-4c31-853c-97d828b895fd",
   "metadata": {},
   "outputs": [],
   "source": []
  }
 ],
 "metadata": {
  "kernelspec": {
   "display_name": "Python 3 (ipykernel)",
   "language": "python",
   "name": "python3"
  },
  "language_info": {
   "codemirror_mode": {
    "name": "ipython",
    "version": 3
   },
   "file_extension": ".py",
   "mimetype": "text/x-python",
   "name": "python",
   "nbconvert_exporter": "python",
   "pygments_lexer": "ipython3",
   "version": "3.9.2"
  }
 },
 "nbformat": 4,
 "nbformat_minor": 5
}
