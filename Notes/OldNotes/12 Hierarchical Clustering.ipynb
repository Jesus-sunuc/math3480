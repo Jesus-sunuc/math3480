{
 "cells": [
  {
   "cell_type": "markdown",
   "id": "9d9ddc19",
   "metadata": {},
   "source": [
    "# Hierarchical Clustering\n",
    "#### Math 3480 - Machine Learning - Dr. Michael E. Olson"
   ]
  },
  {
   "cell_type": "markdown",
   "id": "2e7b6de6",
   "metadata": {},
   "source": [
    "## Reading\n",
    "* Brunton, Section x.a\n",
    "* Geron, Chapter x\n",
    "\n",
    "### Additional Resources\n",
    "* [YouTube: Serrano Academy - Clustering: K-means and Hierarchical](https://www.youtube.com/watch?v=QXOkPvFM6NU)"
   ]
  },
  {
   "cell_type": "code",
   "execution_count": 3,
   "id": "af7f339a",
   "metadata": {},
   "outputs": [],
   "source": [
    "import numpy as np\n",
    "import pandas as pd\n",
    "import seaborn as sns\n",
    "import matplotlib.pyplot as plt"
   ]
  },
  {
   "cell_type": "markdown",
   "id": "5b481510",
   "metadata": {},
   "source": [
    "## Theory\n",
    "The idea is to combine the two closest points into a cluster. Then, combine the next two closest points, and continue. If one of the two closest points is within a cluster already, then you merge the other point with that cluster."
   ]
  },
  {
   "cell_type": "code",
   "execution_count": null,
   "id": "2fdc3b9a",
   "metadata": {},
   "outputs": [],
   "source": []
  },
  {
   "cell_type": "markdown",
   "id": "4ab7b0ab",
   "metadata": {},
   "source": [
    "## Algorithm"
   ]
  },
  {
   "cell_type": "code",
   "execution_count": 5,
   "id": "cd7fa232",
   "metadata": {},
   "outputs": [
    {
     "data": {
      "text/plain": [
       "<matplotlib.collections.PathCollection at 0x174fe7790>"
      ]
     },
     "execution_count": 5,
     "metadata": {},
     "output_type": "execute_result"
    },
    {
     "data": {
      "image/png": "[encoded data removed]",
      "text/plain": [
       "<Figure size 432x288 with 1 Axes>"
      ]
     },
     "metadata": {
      "needs_background": "light"
     },
     "output_type": "display_data"
    }
   ],
   "source": [
    "# Set up the data\n",
    "from sklearn.datasets import make_blobs\n",
    "X,y = make_blobs(n_samples = 20, n_features = 2, centers = 4, cluster_std = 0.7, random_state = 42)\n",
    "\n",
    "plt.scatter(X[:,0], X[:,1])"
   ]
  },
  {
   "cell_type": "markdown",
   "id": "5e0d7863",
   "metadata": {},
   "source": [
    "It often helps to first look at a Dendrogram\n",
    "1. Connect the first two points. This becomes the first bracket, whose height is the distance between the two points.\n",
    "2. Do the same with the next two points.\n",
    "3. Continue until all points have been clustered\n",
    "4. Determine where to make the cut (how many clusters do you want?)"
   ]
  },
  {
   "cell_type": "code",
   "execution_count": 22,
   "id": "1c7d2e51",
   "metadata": {},
   "outputs": [
    {
     "data": {
      "text/plain": [
       "<matplotlib.lines.Line2D at 0x1761981f0>"
      ]
     },
     "execution_count": 22,
     "metadata": {},
     "output_type": "execute_result"
    },
    {
     "data": {
      "image/png": "[encoded data removed]",
      "text/plain": [
       "<Figure size 432x288 with 1 Axes>"
      ]
     },
     "metadata": {
      "needs_background": "light"
     },
     "output_type": "display_data"
    }
   ],
   "source": [
    "import scipy.cluster.hierarchy as sch\n",
    "from sklearn.cluster import AgglomerativeClustering\n",
    "\n",
    "limit = 10\n",
    "dendrogram = sch.dendrogram(sch.linkage(X, method='ward'), color_threshold=limit)\n",
    "plt.xlabel('Points')\n",
    "plt.ylabel('Distance')\n",
    "plt.axhline(y=limit, linestyle=':', color='black')"
   ]
  },
  {
   "cell_type": "markdown",
   "id": "50198e4b",
   "metadata": {},
   "source": [
    "2. "
   ]
  },
  {
   "cell_type": "code",
   "execution_count": 22,
   "id": "b16299d4",
   "metadata": {},
   "outputs": [
    {
     "data": {
      "text/plain": [
       "<matplotlib.collections.PathCollection at 0x175a00ee0>"
      ]
     },
     "execution_count": 22,
     "metadata": {},
     "output_type": "execute_result"
    },
    {
     "data": {
      "image/png": "[encoded data removed]",
      "text/plain": [
       "<Figure size 432x288 with 1 Axes>"
      ]
     },
     "metadata": {
      "needs_background": "light"
     },
     "output_type": "display_data"
    }
   ],
   "source": [
    "k = 3\n",
    "\n",
    "h_cluster = AgglomerativeClustering(n_clusters=k, affinity = 'euclidean', linkage='ward')\n",
    "y_predict = h_cluster.fit_predict(data[0])\n",
    "plt.scatter(data[0][:,0],data[0][:,1],c=y_predict)"
   ]
  },
  {
   "cell_type": "markdown",
   "id": "d9f99747",
   "metadata": {},
   "source": [
    "3. "
   ]
  },
  {
   "cell_type": "code",
   "execution_count": null,
   "id": "e1b835d9",
   "metadata": {},
   "outputs": [],
   "source": []
  },
  {
   "cell_type": "markdown",
   "id": "65366853",
   "metadata": {},
   "source": [
    "## Limits of Hierarchical Clustering"
   ]
  }
 ],
 "metadata": {
  "kernelspec": {
   "display_name": "Python 3 (ipykernel)",
   "language": "python",
   "name": "python3"
  },
  "language_info": {
   "codemirror_mode": {
    "name": "ipython",
    "version": 3
   },
   "file_extension": ".py",
   "mimetype": "text/x-python",
   "name": "python",
   "nbconvert_exporter": "python",
   "pygments_lexer": "ipython3",
   "version": "3.8.9"
  }
 },
 "nbformat": 4,
 "nbformat_minor": 5
}
