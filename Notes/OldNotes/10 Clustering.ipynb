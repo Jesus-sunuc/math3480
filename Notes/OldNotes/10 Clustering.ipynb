{
 "cells": [
  {
   "cell_type": "markdown",
   "metadata": {},
   "source": [
    "# Clustering\n",
    "#### Math 3480 - Machine Learning - Dr. Michael E. Olson"
   ]
  },
  {
   "cell_type": "markdown",
   "metadata": {},
   "source": [
    "## Reading\n",
    "* Geron, Chapter 9\n",
    "\n",
    "### Additional Resources"
   ]
  },
  {
   "cell_type": "markdown",
   "metadata": {},
   "source": [
    "## Unsupervised Data\n",
    "Until now, all of our our data has had a label to it, which we have used to predict the label for new data. __Unsupervised Data__, on the other hand, comes unlabelled, and it is up to the computer to make labels.\n",
    "\n",
    "Here are a few typical unsupervised learning tasks:\n",
    "* *Clustering* - Group data into \"regions\"\n",
    "  * Customer segmentation\n",
    "  * Dimensionality Reduction\n",
    "  * Data Analysis\n",
    "* *Anomaly detection* - Determine if datapoints are outside of normal\n",
    "  * Defects in manufacturing\n",
    "  * Fraud detection\n",
    "* *Density Estimation* - Estimates the *probability density function* to describe the distribution\n",
    "  * Anomalies determined if they land in low-density regions\n",
    "\n",
    "## Unsupervised Learning Models\n",
    "There are many models for unsupervised learning. Here are two that we will cover here:\n",
    "* K-Means\n",
    "* DBSCAN"
   ]
  }
 ],
 "metadata": {
  "kernelspec": {
   "display_name": "Python 3 (ipykernel)",
   "language": "python",
   "name": "python3"
  },
  "language_info": {
   "codemirror_mode": {
    "name": "ipython",
    "version": 3
   },
   "file_extension": ".py",
   "mimetype": "text/x-python",
   "name": "python",
   "nbconvert_exporter": "python",
   "pygments_lexer": "ipython3",
   "version": "3.9.1"
  }
 },
 "nbformat": 4,
 "nbformat_minor": 2
}
