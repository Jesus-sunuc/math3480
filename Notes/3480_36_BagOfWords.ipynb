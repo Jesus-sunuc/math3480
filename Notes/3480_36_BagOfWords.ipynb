{
 "cells": [
  {
   "cell_type": "markdown",
   "metadata": {},
   "source": [
    "# Regular Expressions\n",
    "__MATH 3480__ - Dr. Michael Olson\n",
    "\n",
    "Reading:\n",
    "* a\n"
   ]
  },
  {
   "cell_type": "markdown",
   "metadata": {},
   "source": [
    "-----\n",
    "### Bag-of-words example"
   ]
  },
  {
   "cell_type": "markdown",
   "metadata": {},
   "source": [
    "Imagine you have an assignment that is graded and given feedback. Some examples are as follows:\n",
    "\n",
    "| Grade | Feedback |\n",
    "| :---: | :------- |\n",
    "|   A   | Fantastic work! |\n",
    "|   A   | Great job! |\n",
    "|   A   | Perfect! |\n",
    "|   B   | Good job |\n",
    "|   B   | Almost perfect |\n",
    "|   B   | So close |\n",
    "|   C   | Good, but needs work |\n",
    "|   C   | Needs some help |\n",
    "|   D   | Poor work |\n",
    "|   D   | Try harder next time |\n",
    "\n",
    "Now, we create a list (bag) of these words and count how frequently they are associated with each grade.\n",
    "\n",
    "| Word      |   A   |   B   |   C   |   D   |\n",
    "| :-------- | :---: | :---: | :---: | :---: |\n",
    "| Fantastic |   1   |   0   |   0   |   0   |\n",
    "| Work      |   1   |   0   |   1   |   1   |\n",
    "| Great     |   1   |   0   |   0   |   0   | \n",
    "| job       |   1   |   1   |   0   |   0   |\n",
    "| Perfect   |   1   |   1   |   0   |   0   |\n",
    "| Good      |   0   |   1   |   1   |   0   |\n",
    "| Almost    |   0   |   1   |   0   |   0   |\n",
    "| So        |   0   |   1   |   0   |   0   |\n",
    "| close     |   0   |   1   |   0   |   0   |\n",
    "| but       |   0   |   0   |   1   |   0   |\n",
    "| needs     |   0   |   0   |   2   |   0   |\n",
    "| some      |   0   |   0   |   1   |   0   |\n",
    "| help      |   0   |   0   |   1   |   0   |\n",
    "| Poor      |   0   |   0   |   0   |   1   |\n",
    "| Try       |   0   |   0   |   0   |   1   |\n",
    "| harder    |   0   |   0   |   0   |   1   |\n",
    "| next      |   0   |   0   |   0   |   1   |\n",
    "| time      |   0   |   0   |   0   |   1   |\n",
    "\n",
    "How big is this array of words? (Do a google search for \"How many words are used in the English language?\")\n",
    "* Over 170,000 words available\n",
    "* Only 20,000 commonly used\n",
    "* Only 3,000 really needed in everyday speech\n",
    "\n",
    "We create an empty array of 20,000 words. This is our bag of words.\n",
    "$$[0,0,0,0,0,0,0,0,0,0,0,0,0,0,0,0,\\dots,0]$$\n",
    "\n",
    "* Each position represents a word\n",
    "* First two spots in the array are reserved\n",
    "    * `array[0] = SOS` where SOS = Start of Sentence\n",
    "    * `array[1] = EOS` where EOS = End of Sentence\n",
    "    * `array[n]` is the last element of the array, reserved for any of those special words not in our array.\n",
    "* Fill it with a count of how often those words occur in our example\n",
    "\n",
    "$$[SOS, EOS, a, of, the, if, is, did, not, and, me, you, have, get, good, perfect, worth, amazing, fantastic, job, work, \\dots$$\n",
    "$$\\qquad\\dots your, mine, \",\", \"!\", \".\", know, question, shall, go, let, \\dots, (special~words)]$$\n",
    "\n",
    "Note that derivations of the same word are grouped together:\n",
    "* worthy ==> worth\n",
    "* questions ==> question\n",
    "\n",
    "Quick example: On one of your assignments, I write the following feedback:\n",
    "> Fantastic work, John! Your work is worthy of JPL! Let me know if you have questions. Michael.\n",
    "\n",
    "Putting this into the bag of words,\n",
    "$$[1,1,0,1,0,1,1,0,0,0,1,1,1,0,0,0,1,0,1,0,2,\\dots$$\n",
    "$$\\qquad 1,0,1,2,2,1,1,0,0,1,\\dots, 3]$$\n",
    "\n",
    "We would do this for all feedback given to all students (1,000's or even 1,000,000's of students), linked with the grade given to each student. This is used to train the model (logistic regression, naive bayes, DNN, etc.). Then, we would take the array from our example and feed it into our newly-trained model, and it should be able to predict the appropriate grade for the student just based on the feedback!"
   ]
  },
  {
   "cell_type": "markdown",
   "metadata": {},
   "source": [
    "-----\n",
    "We are now going to create a model using reviews for a restaurant. As we build the model, remember the steps:\n",
    "\n",
    "<img src=\"https://github.com/drolsonmi/math3480/blob/main/Notes/Images/3480_NLP_Process.png?raw=true\" height=400 alt=\"The steps of Natural Language Processing\">"
   ]
  },
  {
   "cell_type": "markdown",
   "metadata": {},
   "source": [
    "### Importing the Libraries"
   ]
  },
  {
   "cell_type": "code",
   "execution_count": null,
   "metadata": {},
   "outputs": [],
   "source": []
  },
  {
   "cell_type": "markdown",
   "metadata": {},
   "source": [
    "### Importing the Dataset"
   ]
  },
  {
   "cell_type": "code",
   "execution_count": null,
   "metadata": {},
   "outputs": [],
   "source": []
  },
  {
   "cell_type": "markdown",
   "metadata": {},
   "source": [
    "### Cleaning the text"
   ]
  },
  {
   "cell_type": "code",
   "execution_count": null,
   "metadata": {},
   "outputs": [],
   "source": []
  },
  {
   "cell_type": "markdown",
   "metadata": {},
   "source": [
    "### Creating the Bag of Words model"
   ]
  },
  {
   "cell_type": "code",
   "execution_count": null,
   "metadata": {},
   "outputs": [],
   "source": []
  },
  {
   "cell_type": "markdown",
   "metadata": {},
   "source": [
    "### Cross Validation\n"
   ]
  },
  {
   "cell_type": "code",
   "execution_count": null,
   "metadata": {},
   "outputs": [],
   "source": []
  },
  {
   "cell_type": "markdown",
   "metadata": {},
   "source": [
    "### Training the model (Naive Bayes)"
   ]
  },
  {
   "cell_type": "code",
   "execution_count": null,
   "metadata": {},
   "outputs": [],
   "source": []
  },
  {
   "cell_type": "markdown",
   "metadata": {},
   "source": [
    "### Testing the model"
   ]
  },
  {
   "cell_type": "code",
   "execution_count": null,
   "metadata": {},
   "outputs": [],
   "source": []
  },
  {
   "cell_type": "markdown",
   "metadata": {},
   "source": [
    "### Evaluation"
   ]
  },
  {
   "cell_type": "code",
   "execution_count": null,
   "metadata": {},
   "outputs": [],
   "source": []
  }
 ],
 "metadata": {
  "language_info": {
   "name": "python"
  }
 },
 "nbformat": 4,
 "nbformat_minor": 2
}
