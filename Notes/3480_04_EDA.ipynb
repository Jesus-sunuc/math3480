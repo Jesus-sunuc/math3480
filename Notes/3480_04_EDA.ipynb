{
 "cells": [
  {
   "cell_type": "markdown",
   "id": "dfe69e1c",
   "metadata": {},
   "source": [
    "# Lecture 4 Exploratory Data Analysis\n",
    "__MATH 3480__ - Dr. Michael Olson"
   ]
  },
  {
   "cell_type": "markdown",
   "id": "655f8705",
   "metadata": {},
   "source": [
    "In Exploratory Data Analysis, we need to follow these steps:\n",
    "1. Obtain and Clean the Data\n",
    "2. Wrangle the Data\n",
    "3. Look at statistical calculations\n",
    "4. Graph the data \n",
    "5. Draw conclusions and make hypotheses from (3) and (4), looking for relationships that we might use\n",
    "\n",
    "|              | Quantitative Data | Categorical Data |\n",
    "| :----------- | :---------------- | :--------------- |\n",
    "| Calculations | Mean, Mode<br>5-summary Statistics<br>Distributions (count, standard deviation/variance) | Probabilities<br>Expected Values<br>Probability/Binomial/etc. Distributions |\n",
    "| Graphs       | Histogram/KDE (kernel density estimator)<br>Boxplot/Violinplot<br>Scatterplot<br>Timeseries<br>Heatmap | Barplot<br>Pie Chart<br>Venn Diagram<br>Tree Diagram |\n",
    "\n",
    "The goal of EDA:\n",
    "* Derive Insights\n",
    "* Generate Hypotheses"
   ]
  },
  {
   "cell_type": "code",
   "execution_count": null,
   "id": "2f032f98-0876-438c-a45b-5a4c1eea16d8",
   "metadata": {},
   "outputs": [],
   "source": [
    "import numpy as np\n",
    "import pandas as pd\n",
    "import matplotlib.pyplot as plt\n",
    "import seaborn as sns"
   ]
  },
  {
   "cell_type": "code",
   "execution_count": null,
   "id": "b2af5423-8f76-4022-baf2-8179e848b50d",
   "metadata": {},
   "outputs": [],
   "source": [
    "mpg = sns.load_dataset('mpg')\n",
    "mpg.head()"
   ]
  },
  {
   "cell_type": "markdown",
   "id": "acd2ecbd-8287-4b61-96e8-b6825cb3084c",
   "metadata": {},
   "source": [
    "## Data Validation\n",
    "Look through the data for\n",
    "* Missing values\n",
    "* Incorrect data types (is the year an integer or a float? Is the weight a float or a string?)\n",
    "* Incorrect categories (is the origin 'usa' or 'uas'?)\n",
    "* Patterns"
   ]
  },
  {
   "cell_type": "code",
   "execution_count": null,
   "id": "33c4d9b0-f76f-45af-9475-be9e9077df98",
   "metadata": {},
   "outputs": [],
   "source": [
    "mpg.dtypes"
   ]
  },
  {
   "cell_type": "code",
   "execution_count": null,
   "id": "0970ef12-1601-4f03-ab17-238bd9134d9a",
   "metadata": {},
   "outputs": [],
   "source": [
    "mpg['origin'].unique()"
   ]
  },
  {
   "cell_type": "code",
   "execution_count": null,
   "id": "b22dd630-c321-44bd-9312-ad6bcb67c23e",
   "metadata": {},
   "outputs": [],
   "source": [
    "mpg['origin'].isin(['usa','japan','europe'])"
   ]
  },
  {
   "cell_type": "code",
   "execution_count": null,
   "id": "b2cc9d68-049b-4857-b333-11a9d6118ee6",
   "metadata": {},
   "outputs": [],
   "source": [
    "( ~mpg['origin'].isin(['usa','japan','europe']) ).sum()"
   ]
  },
  {
   "cell_type": "code",
   "execution_count": null,
   "id": "9807e1ff-c87e-4429-bfaa-cc38a2834732",
   "metadata": {},
   "outputs": [],
   "source": [
    "# mpg.groupby('origin').mean() # Error because it doesn't know what to do with 'name' column\n",
    "mpg.drop('name', axis=1).groupby('origin').mean()"
   ]
  },
  {
   "cell_type": "code",
   "execution_count": null,
   "id": "65868467-77b3-40ed-88c8-1d5a5602fb55",
   "metadata": {},
   "outputs": [],
   "source": [
    "all_cars_by_year = mpg.drop(['name','origin'], axis=1).groupby('model_year').mean()\n",
    "all_cars_by_year"
   ]
  },
  {
   "cell_type": "code",
   "execution_count": null,
   "id": "ae73b644-5a49-4310-bf91-6c27dca96f80",
   "metadata": {},
   "outputs": [],
   "source": [
    "# mpg[mpg['origin'] == 'usa']\n",
    "# mpg[mpg['origin'] == 'usa'].drop(['name','origin'], axis=1)\n",
    "mpg[mpg['origin'] == 'usa'].drop(['name','origin'], axis=1).groupby('model_year').mean()"
   ]
  },
  {
   "cell_type": "code",
   "execution_count": null,
   "id": "29f0e4e2-2ea6-475f-b003-028d333cc9ef",
   "metadata": {},
   "outputs": [],
   "source": [
    "cars_by_year = mpg.drop('name', axis=1).groupby(['origin','model_year']).mean()\n",
    "cars_by_year"
   ]
  },
  {
   "cell_type": "markdown",
   "id": "7a70037a",
   "metadata": {},
   "source": [
    "## Calculations"
   ]
  },
  {
   "cell_type": "markdown",
   "id": "3a62b69a-2614-45b3-81c8-4ad370a513e6",
   "metadata": {},
   "source": [
    "### Quantitative Calculations"
   ]
  },
  {
   "cell_type": "code",
   "execution_count": null,
   "id": "8c6b9e05-2294-4532-9bfa-07869c6dc5f4",
   "metadata": {},
   "outputs": [],
   "source": [
    "mpg.info()"
   ]
  },
  {
   "cell_type": "code",
   "execution_count": null,
   "id": "e955dda5",
   "metadata": {},
   "outputs": [],
   "source": [
    "mpg.describe()"
   ]
  },
  {
   "cell_type": "markdown",
   "id": "7865d2fb-5613-44d3-80e6-3abbd5f6ffb6",
   "metadata": {},
   "source": [
    "### Categorical Calculations"
   ]
  },
  {
   "cell_type": "code",
   "execution_count": null,
   "id": "c83686c6",
   "metadata": {},
   "outputs": [],
   "source": [
    "origin_counts = mpg['origin'].value_counts()\n",
    "origin_counts"
   ]
  },
  {
   "cell_type": "code",
   "execution_count": null,
   "id": "11dbe154",
   "metadata": {},
   "outputs": [],
   "source": []
  },
  {
   "cell_type": "markdown",
   "id": "9b63053f",
   "metadata": {},
   "source": [
    "## Graphing\n",
    "Below are some of the common graphs that we make. Use these graphs to find patterns within the data."
   ]
  },
  {
   "cell_type": "markdown",
   "id": "52d1b747-a09c-4d2b-83b0-8ba7dd4b21c8",
   "metadata": {},
   "source": [
    "### Categorical plots\n",
    "Barplots, pie charts"
   ]
  },
  {
   "cell_type": "markdown",
   "id": "917f0c04-e210-4b17-a179-d55dbdc971fb",
   "metadata": {},
   "source": [
    "#### Countplot"
   ]
  },
  {
   "cell_type": "code",
   "execution_count": null,
   "id": "1f350991-8025-47da-8525-39123d6535e4",
   "metadata": {},
   "outputs": [],
   "source": [
    "sns.countplot(data=mpg, x='origin')\n",
    "plt.title('Count of cars by origin country')\n",
    "plt.xlabel('')"
   ]
  },
  {
   "cell_type": "markdown",
   "id": "d723c6d9-4215-4922-8ff7-2b6c98738640",
   "metadata": {},
   "source": [
    "#### Bar Graph"
   ]
  },
  {
   "cell_type": "code",
   "execution_count": null,
   "id": "cfaf3a5f-87d0-4ec4-9769-256222a495e5",
   "metadata": {},
   "outputs": [],
   "source": [
    "sns.barplot(data=mpg, x='origin', y='mpg', errorbar=('ci',90))\n",
    "plt.title('Gas Mileage by Country of Origin')\n",
    "plt.xlabel('')\n",
    "plt.ylabel('Gas Mileage (miles per gallon)')"
   ]
  },
  {
   "cell_type": "markdown",
   "id": "3783fcac-da4f-4b0a-8899-399ce96b1f34",
   "metadata": {},
   "source": [
    "#### Pie Chart"
   ]
  },
  {
   "cell_type": "code",
   "execution_count": null,
   "id": "c9855ada-f2f4-489c-b6ab-486bffdc534d",
   "metadata": {},
   "outputs": [],
   "source": [
    "plt.pie(origin_counts, labels=origin_counts.index, autopct='%.1f%%') "
   ]
  },
  {
   "cell_type": "markdown",
   "id": "dc6c7a07-6a45-4906-84ff-4ae396b06165",
   "metadata": {},
   "source": [
    "### Quantitative Plots\n",
    "Histograms, KDE plots, Boxplots, Violinplots, Scatterplots, Regression plots, Timeseries, Heatmap"
   ]
  },
  {
   "cell_type": "markdown",
   "id": "3ebb3095-4b65-4c8e-8749-1fdd7fd6692b",
   "metadata": {},
   "source": [
    "#### Histogram"
   ]
  },
  {
   "cell_type": "code",
   "execution_count": null,
   "id": "52f43aae-68db-4245-a539-c1b1c1256076",
   "metadata": {},
   "outputs": [],
   "source": [
    "sns.histplot(data=mpg, x='mpg', binwidth=5)"
   ]
  },
  {
   "cell_type": "code",
   "execution_count": null,
   "id": "c769cc1d-b8bd-470c-822c-57cf4a054cf6",
   "metadata": {},
   "outputs": [],
   "source": [
    "sns.histplot(data=mpg, y='horsepower', bins=10)"
   ]
  },
  {
   "cell_type": "markdown",
   "id": "97973bc9-3831-486e-bf97-df877b1310fa",
   "metadata": {},
   "source": [
    "#### KDE (Kernel Density Estimator)"
   ]
  },
  {
   "cell_type": "code",
   "execution_count": null,
   "id": "96b08140-7789-4940-8cd6-47a7c6b85b29",
   "metadata": {},
   "outputs": [],
   "source": [
    "fig,ax = plt.subplots()\n",
    "sns.kdeplot(data=mpg, x='horsepower', ax=ax)\n",
    "ax2 = plt.twinx(ax)\n",
    "sns.histplot(data=mpg, x='horsepower', bins=10, ax=ax2)"
   ]
  },
  {
   "cell_type": "code",
   "execution_count": null,
   "id": "8f1d850a-1541-4e14-9478-407aaaa572ac",
   "metadata": {},
   "outputs": [],
   "source": [
    "sns.kdeplot(data=mpg, x='horsepower', hue='origin')"
   ]
  },
  {
   "cell_type": "code",
   "execution_count": null,
   "id": "54ad5e6d-d978-44d3-95d8-d44973fcf29d",
   "metadata": {},
   "outputs": [],
   "source": [
    "sns.kdeplot(data=mpg, x='horsepower', hue='cylinders')"
   ]
  },
  {
   "cell_type": "code",
   "execution_count": null,
   "id": "fda6a2e7-bbd4-4147-9142-7576bf45bfbc",
   "metadata": {},
   "outputs": [],
   "source": [
    "sns.kdeplot(data=mpg, x='mpg', hue='cylinders')"
   ]
  },
  {
   "cell_type": "markdown",
   "id": "d09db71b-8cca-45f1-a2a2-4a335b08680e",
   "metadata": {},
   "source": [
    "#### Boxplot"
   ]
  },
  {
   "cell_type": "code",
   "execution_count": null,
   "id": "46d2a023-4aa0-4c8f-b8f2-96bbd37149a9",
   "metadata": {},
   "outputs": [],
   "source": [
    "sns.boxplot(data=mpg, x='mpg', y='origin')\n",
    "plt.title('Gas Mileage by Origin Country')\n",
    "plt.xlabel('Gas Mileage (miles per gallon)')\n",
    "plt.ylabel('')"
   ]
  },
  {
   "cell_type": "markdown",
   "id": "ca606a4a-3800-4053-b4e6-0e8223beac4f",
   "metadata": {},
   "source": [
    "#### Violinplot"
   ]
  },
  {
   "cell_type": "code",
   "execution_count": null,
   "id": "352d83c1-fc1e-4d70-86ee-94cce4dc332a",
   "metadata": {},
   "outputs": [],
   "source": [
    "sns.violinplot(data=mpg, x='mpg', y='origin')\n",
    "plt.title('Distribution of Gas Mileage by Origin Country')\n",
    "plt.xlabel('Gas Mileage (miles per gallon)')\n",
    "plt.ylabel('')"
   ]
  },
  {
   "cell_type": "markdown",
   "id": "f6e83c67-a36e-408c-872c-a57d9d7e9abb",
   "metadata": {},
   "source": [
    "#### Pairplot"
   ]
  },
  {
   "cell_type": "code",
   "execution_count": null,
   "id": "7de4cc91-fb65-4ed4-a715-47236267e844",
   "metadata": {},
   "outputs": [],
   "source": [
    "sns.pairplot(data=mpg, hue='cylinders')"
   ]
  },
  {
   "cell_type": "markdown",
   "id": "c3e34450-b537-42f0-b786-6ea00692e5ce",
   "metadata": {},
   "source": [
    "#### Scatterplot"
   ]
  },
  {
   "cell_type": "code",
   "execution_count": null,
   "id": "c847c720-cee2-4241-8467-3029e844fc8a",
   "metadata": {},
   "outputs": [],
   "source": [
    "sns.scatterplot(data=mpg, x='mpg', y='horsepower', hue='origin')\n",
    "plt.title('Comparison of Gas Mileage with Engine Power')\n",
    "plt.xlabel('Gas Mileage (miles per gallon)')\n",
    "plt.ylabel('Engine Power (horsepower)')"
   ]
  },
  {
   "cell_type": "markdown",
   "id": "41847603-387d-41e4-a95e-4863641cebec",
   "metadata": {},
   "source": [
    "#### Regression Plot"
   ]
  },
  {
   "cell_type": "code",
   "execution_count": null,
   "id": "afbea0b3-70c7-4a2a-93c2-26ebfb73964d",
   "metadata": {},
   "outputs": [],
   "source": [
    "sns.regplot(data=mpg, x='horsepower', y='weight')"
   ]
  },
  {
   "cell_type": "code",
   "execution_count": null,
   "id": "fc98e7db-aa93-423f-80ad-2e7339c614fa",
   "metadata": {},
   "outputs": [],
   "source": [
    "# No hue option\n",
    "fig,ax = plt.subplots()\n",
    "for origin in mpg['origin'].unique():\n",
    "    sns.regplot(data=mpg[mpg['origin'] == origin], x='horsepower', y='weight', label=origin)\n",
    "\n",
    "plt.legend()"
   ]
  },
  {
   "cell_type": "code",
   "execution_count": null,
   "id": "86e23237-4671-4f94-ba15-2b37b976ab89",
   "metadata": {},
   "outputs": [],
   "source": [
    "mpg.groupby('origin').max()"
   ]
  },
  {
   "cell_type": "markdown",
   "id": "f96af9e0-29b5-40c8-9566-9e4ffb74541d",
   "metadata": {},
   "source": [
    "#### Timeseries"
   ]
  },
  {
   "cell_type": "code",
   "execution_count": null,
   "id": "510bbe4e-fd36-4671-b60d-a5f453cc1e43",
   "metadata": {},
   "outputs": [],
   "source": [
    "cars_by_year.loc['usa'].index"
   ]
  },
  {
   "cell_type": "code",
   "execution_count": null,
   "id": "a664bd0d-4a81-4a26-94f6-0e2b6a91d6b5",
   "metadata": {},
   "outputs": [],
   "source": [
    "sns.lineplot(data=mpg, x='model_year', y='mpg', hue='origin')\n",
    "plt.legend()\n",
    "plt.title('Gas Mileage over Time by Country of Origin')\n",
    "plt.xlabel('Model Year\\n(76 = 1976)')\n",
    "plt.ylabel('Gas Mileage (miles per gallon)')"
   ]
  },
  {
   "cell_type": "markdown",
   "id": "c3853103-d9da-42f7-a589-bb9c2d202bd1",
   "metadata": {},
   "source": [
    "#### Heatmap"
   ]
  },
  {
   "cell_type": "code",
   "execution_count": null,
   "id": "1b1e4cb7-15b7-4feb-9ad4-f076b85a87e3",
   "metadata": {},
   "outputs": [],
   "source": [
    "# Create table of the model year and origin, with the average mpg as values\n",
    "car_by_year = mpg.drop('name', axis=1).pivot_table(columns='model_year', index='origin', values='mpg', aggfunc='mean')\n",
    "\n",
    "plt.figure(figsize=(10,3))\n",
    "sns.heatmap(data=car_by_year) \n",
    "\n",
    "plt.title('Gas Mileage over Time by Country of Origin')\n",
    "plt.xlabel('Model Year\\n(76 = 1976)')\n",
    "plt.ylabel('')"
   ]
  },
  {
   "cell_type": "code",
   "execution_count": null,
   "id": "3d46fc14-e0be-44b6-9fb3-8b077ce0fa91",
   "metadata": {},
   "outputs": [],
   "source": []
  }
 ],
 "metadata": {
  "kernelspec": {
   "display_name": "Python (DM)",
   "language": "python",
   "name": "datamining"
  },
  "language_info": {
   "codemirror_mode": {
    "name": "ipython",
    "version": 3
   },
   "file_extension": ".py",
   "mimetype": "text/x-python",
   "name": "python",
   "nbconvert_exporter": "python",
   "pygments_lexer": "ipython3",
   "version": "3.9.14"
  }
 },
 "nbformat": 4,
 "nbformat_minor": 5
}
