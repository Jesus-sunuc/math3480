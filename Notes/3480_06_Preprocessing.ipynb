{
 "cells": [
  {
   "cell_type": "markdown",
   "id": "03180db8",
   "metadata": {},
   "source": [
    "# Lecture 6 Pre-Processing\n",
    "__MATH 3480__ - Dr. Michael Olson\n",
    "\n",
    "Reading:\n",
    "* Geron, Chapter 2, pp. 62-75"
   ]
  },
  {
   "cell_type": "markdown",
   "id": "d2fb868b",
   "metadata": {},
   "source": [
    "In order to have data ready for modeling, we have to pre-process the data. For the pre-processing, we have a few steps, some of which we have seen:\n",
    "1. Take care of missing data\n",
    "2. Encoding categorical data\n",
    "3. Splitting the Data (Cross Validation)\n",
    "4. Feature Scaling\n",
    "\n",
    "We're going to look at this three ways\n",
    "1. Using functions as we have seen in our courses so far\n",
    "   * Additionally, how to execute these these in one command (piping)\n",
    "2. Using classes and objects\n",
    "3. Using pre-built classes in *sci-kit learn*\n",
    "   * Additionally, how to execute these these in one command (piping)\n",
    "   \n",
    "-----"
   ]
  },
  {
   "cell_type": "markdown",
   "id": "bcb267e1",
   "metadata": {},
   "source": [
    "We will use the following dataset on weight loss in each case."
   ]
  },
  {
   "cell_type": "code",
   "execution_count": null,
   "id": "478e7492",
   "metadata": {},
   "outputs": [],
   "source": [
    "import numpy as np\n",
    "import pandas as pd\n",
    "\n",
    "exercise = pd.read_csv('Data/exercise.csv')\n",
    "display(exercise)"
   ]
  },
  {
   "cell_type": "markdown",
   "id": "5d16e918",
   "metadata": {},
   "source": [
    "Looking at the data here, note that this is what we will need to do in order to use this data in a model.\n",
    "* Drop the *Date* column\n",
    "* Missing values in the *Calories* category\n",
    "    * Let's replace with a mean value\n",
    "* *Exercise Type* is a nominal variable and needs to become numerical\n",
    "    * Being a nominal variable, we don't want to just turn the categories into numbers as we don't want to unintentionally indicate an order\n",
    "    * Let's use One-hot encoding (also known as dummy variables)\n",
    "* *Quality of Exercise* is an ordinal variable and needs to become numerical\n",
    "    * Since there is an order to the categories, we can merely replace each category with a numerical value"
   ]
  },
  {
   "cell_type": "markdown",
   "id": "bbe7b660",
   "metadata": {},
   "source": [
    "## Using functions"
   ]
  },
  {
   "cell_type": "code",
   "execution_count": null,
   "id": "6abc7381",
   "metadata": {},
   "outputs": [],
   "source": [
    "# Drop the date column\n",
    "def drop_col(x,col):\n",
    "    x.drop(col, axis=1, inplace=True)\n",
    "    return x\n",
    "\n",
    "# Function to fill in missing values\n",
    "def fill_avg(x,col):\n",
    "    x[col].replace(np.nan, x[col].mean(), inplace=True)\n",
    "    return x\n",
    "\n",
    "# One-hot encode\n",
    "def one_hot(x,col):\n",
    "    x = x.join(pd.get_dummies(exercise[col]).astype(int)).drop(col, axis=1)\n",
    "    return x\n",
    "\n",
    "# Ordinal Encode\n",
    "def ordinal_encode(x,col):\n",
    "    order = {\n",
    "        'None':0,\n",
    "        np.nan:0,\n",
    "        'Low':1,\n",
    "        'Medium':2,\n",
    "        'High':3\n",
    "    }\n",
    "    x[col] = x[col].map(order)\n",
    "    return x"
   ]
  },
  {
   "cell_type": "code",
   "execution_count": null,
   "id": "c8ac3730",
   "metadata": {},
   "outputs": [],
   "source": [
    "drop_col(exercise,'Date')"
   ]
  },
  {
   "cell_type": "code",
   "execution_count": null,
   "id": "73a6236a",
   "metadata": {},
   "outputs": [],
   "source": [
    "fill_avg(exercise,'Calories')"
   ]
  },
  {
   "cell_type": "code",
   "execution_count": null,
   "id": "5649e0d6",
   "metadata": {},
   "outputs": [],
   "source": [
    "exercise = one_hot(exercise,'Exercise Type')\n",
    "exercise"
   ]
  },
  {
   "cell_type": "code",
   "execution_count": null,
   "id": "03989944",
   "metadata": {},
   "outputs": [],
   "source": [
    "exercise = ordinal_encode(exercise,'Quality of Exercise')\n",
    "exercise"
   ]
  },
  {
   "cell_type": "markdown",
   "id": "9eeb1312",
   "metadata": {},
   "source": [
    "Now, our data is 100% numerical, and ready to be put into a model."
   ]
  },
  {
   "cell_type": "markdown",
   "id": "665b7372",
   "metadata": {},
   "source": [
    "#### Piping functions into one command"
   ]
  },
  {
   "cell_type": "markdown",
   "id": "a3a507b0",
   "metadata": {},
   "source": [
    "We can also do all of these functions in one command. We do this by taking the output of one function and using it as the input for another function. In a very messy way, we can do it this way."
   ]
  },
  {
   "cell_type": "code",
   "execution_count": null,
   "id": "8b3fc0d2",
   "metadata": {},
   "outputs": [],
   "source": [
    "exercise = pd.read_csv('Data/exercise.csv')\n",
    "exercise = ordinal_encode(one_hot(fill_avg(drop_col(exercise,'Date'),'Calories'),'Exercise Type'),'Quality of Exercise')\n",
    "exercise"
   ]
  },
  {
   "cell_type": "markdown",
   "id": "16e3b16d",
   "metadata": {},
   "source": [
    "However, this code is very difficult to read. So, we use __piping__ instead, which applies ."
   ]
  },
  {
   "cell_type": "code",
   "execution_count": null,
   "id": "a8b64927",
   "metadata": {},
   "outputs": [],
   "source": [
    "exercise = pd.read_csv('Data/exercise.csv')\n",
    "exercise = (exercise.pipe(drop_col,'Date')\n",
    "                    .pipe(fill_avg,'Calories')\n",
    "                    .pipe(one_hot,'Exercise Type')\n",
    "                    .pipe(ordinal_encode, 'Quality of Exercise')\n",
    "            )\n",
    "exercise"
   ]
  },
  {
   "cell_type": "markdown",
   "id": "5acb9b30",
   "metadata": {},
   "source": [
    "## Using classes and objects\n",
    "(Working on this section)"
   ]
  },
  {
   "cell_type": "markdown",
   "id": "93c96296",
   "metadata": {},
   "source": [
    "## Using *sci-kit learn*"
   ]
  },
  {
   "cell_type": "markdown",
   "id": "318ed607",
   "metadata": {},
   "source": [
    "*Scikit-learn* has a number of packages to do these preprocessing tasks. These functions have a lot of features that do the job more effectively and cleanly, so is a better option than our self-made functions."
   ]
  },
  {
   "cell_type": "code",
   "execution_count": null,
   "id": "7a731cdb",
   "metadata": {},
   "outputs": [],
   "source": [
    "# Set up variables\n",
    "exercise = pd.read_csv('Data/exercise.csv')\n",
    "X = exercise.drop(['Date','Weight Lost'], axis=1).values\n",
    "\n",
    "# Ordinal Encoder won't like nan values. Change to 'None'\n",
    "# This fits with data since there was 0 activity for that day\n",
    "X[:,3] = ['None' if x is np.nan else x for x in X[:,3]]\n",
    "\n",
    "print(X)"
   ]
  },
  {
   "cell_type": "code",
   "execution_count": null,
   "id": "002a429a",
   "metadata": {},
   "outputs": [],
   "source": [
    "y = np.array(exercise['Weight Lost'])\n",
    "print(y)"
   ]
  },
  {
   "cell_type": "code",
   "execution_count": null,
   "id": "01d625e7",
   "metadata": {},
   "outputs": [],
   "source": [
    "# Fill Missing Values\n",
    "## Calories = Column 0\n",
    "\n",
    "from sklearn.impute import SimpleImputer\n",
    "imputer = SimpleImputer(missing_values=np.nan, strategy='mean')\n",
    "imputer.fit(X[:,0:1])\n",
    "X[:,0:1] = imputer.transform(X[:,0:1])\n",
    "\n",
    "print(X)"
   ]
  },
  {
   "cell_type": "code",
   "execution_count": null,
   "id": "52886e22",
   "metadata": {},
   "outputs": [],
   "source": [
    "# One-hot Encode Nominal Variables\n",
    "from sklearn.preprocessing import OneHotEncoder\n",
    "\n",
    "onehot = OneHotEncoder()\n",
    "onehot.fit_transform(X[:,1:2]).toarray()\n",
    "\n",
    "# Columns are in Alphabetical Order\n",
    "# 1st Column = Running\n",
    "# 2nd Column = Stairs\n",
    "# 3rd Column = Swimming"
   ]
  },
  {
   "cell_type": "code",
   "execution_count": null,
   "id": "b308cf4a",
   "metadata": {},
   "outputs": [],
   "source": [
    "# Ordinal Encode Ordinal Variables\n",
    "from sklearn.preprocessing import OrdinalEncoder\n",
    "\n",
    "oe = OrdinalEncoder(categories=[['None','Low','Medium','High']])\n",
    "oe.fit_transform(X[:,3].reshape(-1,1))"
   ]
  },
  {
   "cell_type": "markdown",
   "id": "2aaec903",
   "metadata": {},
   "source": [
    "#### Piping functions in one command"
   ]
  },
  {
   "cell_type": "code",
   "execution_count": null,
   "id": "8ceced8e",
   "metadata": {},
   "outputs": [],
   "source": [
    "# One-hot Encode nominal variables and Ordinal Encode\n",
    "# ordinal variables but keep all variables\n",
    "\n",
    "# Reload Data and set up variables\n",
    "exercise = pd.read_csv('Data/exercise.csv')\n",
    "X = exercise.drop(['Date','Weight Lost'], axis=1).values\n",
    "\n",
    "# Ordinal Encoder won't like nan values. Change to 'None'\n",
    "# This fits with data since there was 0 activity for that day\n",
    "X[:,3] = ['None' if x is np.nan else x for x in X[:,3]]\n",
    "\n",
    "from sklearn.preprocessing import OneHotEncoder\n",
    "from sklearn.compose import ColumnTransformer\n",
    "\n",
    "# When putting in the columns in each imputer/encoder, indicate the column\n",
    "# of the original matrix\n",
    "  # [0]: Calories\n",
    "  # [1]: Exercise Type\n",
    "  # [3]: Quality of Exercise\n",
    "\n",
    "ct = ColumnTransformer(transformers=[\n",
    "      ('imputer', SimpleImputer(missing_values=np.nan, strategy='mean'), [0]),  # This is placed first in X\n",
    "      ('onehot', OneHotEncoder(), [1]),                                         # This is placed second in X\n",
    "      ('oe', OrdinalEncoder(categories=[['None','Low','Medium','High']]), [3])  # This is placed third in X\n",
    "    ], remainder='passthrough')                     # Remaining columns placed in order after the last encoder\n",
    "\n",
    "\n",
    "\n",
    "X = np.array(ct.fit_transform(X))\n",
    "X"
   ]
  },
  {
   "cell_type": "code",
   "execution_count": null,
   "id": "c884019c",
   "metadata": {},
   "outputs": [],
   "source": []
  }
 ],
 "metadata": {
  "kernelspec": {
   "display_name": "MachineLearning",
   "language": "python",
   "name": "python3"
  },
  "language_info": {
   "codemirror_mode": {
    "name": "ipython",
    "version": 3
   },
   "file_extension": ".py",
   "mimetype": "text/x-python",
   "name": "python",
   "nbconvert_exporter": "python",
   "pygments_lexer": "ipython3",
   "version": "3.9.14"
  }
 },
 "nbformat": 4,
 "nbformat_minor": 5
}
