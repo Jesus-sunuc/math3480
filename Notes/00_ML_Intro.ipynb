{
 "cells": [
  {
   "cell_type": "markdown",
   "metadata": {},
   "source": [
    "# MATH 3480 - Lecture 00 Introduction to Machine Learning\n",
    "Outline\n",
    "1. Demonstration of the entire process\n",
    "2. What is machine learning?\n",
    "3. The machine learning process\n",
    "\t* Data pre-processing\n",
    "\t\t* Obtain and load the data\n",
    "\t\t* Clean the data\n",
    "\t\t* Analyze the data\n",
    "\t\t* Split into training and testing sets\n",
    "\t* Modeling\n",
    "\t\t* Build the model\n",
    "\t\t* Train the model\n",
    "\t\t* Make predictions\n",
    "\t* Evaluation\n",
    "\t\t* Calculate performance metrics\n",
    "        * Determine if the model is good"
   ]
  }
 ],
 "metadata": {
  "language_info": {
   "name": "python"
  }
 },
 "nbformat": 4,
 "nbformat_minor": 2
}
