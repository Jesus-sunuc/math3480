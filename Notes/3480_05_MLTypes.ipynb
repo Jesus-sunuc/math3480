{
 "cells": [
  {
   "cell_type": "markdown",
   "id": "87b4d813",
   "metadata": {},
   "source": [
    "# Lecture 5 The Machine Learning Landscape\n",
    "__MATH 3480__ - Dr. Michael Olson"
   ]
  },
  {
   "cell_type": "markdown",
   "id": "64fb26cf",
   "metadata": {},
   "source": [
    "Three different categories of ML Algorithms\n",
    "1. Supervision (does the data have labels or not?)\n",
    "2. Online vs. Batch Learning (can it learn on the fly?)\n",
    "3. Instance-based vs. Model-based Learning (how does it use new data?)\n",
    "\n",
    "The criteria are not exclusive - all models can be described by each of these categories."
   ]
  },
  {
   "cell_type": "markdown",
   "id": "f71df99b",
   "metadata": {},
   "source": [
    "## Supervision"
   ]
  },
  {
   "cell_type": "markdown",
   "id": "f5857e16",
   "metadata": {},
   "source": [
    "* Supervised learning (Labelled Data)\n",
    "  * Classification (Discrete Data)\n",
    "  * Regression (Continuous Data)\n",
    "* Unsupervised learning (Unlabelled Data)\n",
    "  * Clustering (Discrete Data)\n",
    "  * Visualization and Dimensionality Reduction (Continuous Data)\n",
    "  * Anomaly Detection and Novelty Detection\n",
    "  * Association Rule Learning\n",
    "* Semisupervised learning (Partly automated, with some labels inserted at some point)\n",
    "\n",
    "![Machine Learning Landscape](./Images/3480_05_ML_Landscape.png)\n",
    "\n",
    "<!--Flow Chart (as done in [Types of Machine Learning 2 by Steve Brunton](https://www.youtube.com/watch?v=0_lKUPYEYyY&list=PLMrJAkhIeNNQV7wi9r7Kut8liLFMWQOXn&index=10))-->\n",
    "\n",
    "* System (Training Data)\n",
    "* Labeled?\n",
    "  * Yes: Supervised\n",
    "    * Discrete or Continuous?\n",
    "      * Discrete: Classification\n",
    "      * Continuous: Regression\n",
    "  * No: Unsupervised\n",
    "    * Discrete or Continuous?\n",
    "      * Discrete: Clustering\n",
    "      * Continuous: Embedding (a.k.a. Dimensionality Reduction, Dimension Extraction, Pattern Extraction)\n",
    "  * Partial: Semi-supervised\n",
    "    * Model or Modify?\n",
    "      * Model: Generative Models\n",
    "      * Modify\n",
    "        * --> Loops back to System\n",
    "\n",
    "#### Supervised Learning Algorithms\n",
    "* Classification\n",
    "  * k-Nearest Neighbors (Also Unsupervised Clustering)\n",
    "  * Support Vector Machines (SVMs)\n",
    "  * Decision Trees and Random Forests\n",
    "  * Neural Networks\n",
    "* Regression\n",
    "  * Linear Regression\n",
    "  * Logistic Regression\n",
    "  * Gaussian Processes\n",
    "\n",
    "#### Unsupervised Learning Algorithms\n",
    "* Clustering\n",
    "  * K-Means\n",
    "  * K nearest neighbors\n",
    "  * Spectral Clustering\n",
    "  * DBSCAN\n",
    "  * Hierarchical Cluster Analysis (HCA)\n",
    "* Dimensionality Reduction / Feature Extraction / Embedding / Visualization\n",
    "  * Principal Component Analysis (PCA)\n",
    "  * Autoencoder\n",
    "  * Diffusion Maps\n",
    "  \n",
    "#### Semisupervised Learning Algorithms\n",
    "* Model\n",
    "  * Generative Models\n",
    "      * Generative Adversarial Networks (GAN) - Two algorithms that fight with each other (supervise each other)\n",
    "* Modify\n",
    "  * Reinforcement Learning"
   ]
  },
  {
   "cell_type": "markdown",
   "id": "bd36a94b",
   "metadata": {},
   "source": [
    "## Online vs. Batch Learning"
   ]
  },
  {
   "cell_type": "markdown",
   "id": "5726c65f",
   "metadata": {},
   "source": [
    "### Batch Learning (or Offline Learning)"
   ]
  },
  {
   "cell_type": "markdown",
   "id": "9c66d026",
   "metadata": {},
   "source": [
    "All data is provided which you use to train a model. The model is the rolled out and runs without further learning. Also known as *offline learning*. If you get more data, then you re-train your model (with old data + new data), and roll out the upgraded model.\n",
    "\n",
    "* Advantages\n",
    "  * Automated - just run the program with each new dataset\n",
    "* Disadvantages\n",
    "  * Time-intensive - Each training often takes many hours\n",
    "  * Resource-intensive - Often requires a lot of CPU, memore, disk space, etc.\n",
    "  * If automated, it needs to carry the data with it (think of a rover on Mars or on the Moon, or of your smartphone)  "
   ]
  },
  {
   "cell_type": "markdown",
   "id": "f37109b7",
   "metadata": {},
   "source": [
    "### Incremental Learning (or Online Learning)"
   ]
  },
  {
   "cell_type": "markdown",
   "id": "74d3c21e",
   "metadata": {},
   "source": [
    "Train the system incrementally by feeding it data instances\n",
    "* Individual data instances\n",
    "* Mini-batches (small groups of data instances)\n",
    "Run the data with a few small groups, then it can continue to process new data as a new mini-batch.\n",
    "* Great for systems that receive data as a continuous flow (stock, weather, etc.) that need to adapt rapidly and autonomously\n",
    "* Great if you are limited on resources\n",
    "  * Even if you are offline, you can use online learning algorithms on huge datasets\n",
    "  \n",
    "The speed at which the system adapts: __Learning Rate__\n",
    "* High rates adapt quickly, but tend to also forget old data quickly\n",
    "* Slow rates will cause the model to learn more slowly, but will have less noise\n",
    "\n",
    "Disadvantage to Online Learning:\n",
    "* Any bad data will quickly cause model's performance to decline\n",
    "  * Watch data to switch learning off whenever bad data starts coming in"
   ]
  },
  {
   "cell_type": "markdown",
   "id": "4e7da742",
   "metadata": {},
   "source": [
    "## Instance-based vs. Model-based Learning"
   ]
  },
  {
   "cell_type": "markdown",
   "id": "9872cc0b",
   "metadata": {},
   "source": [
    "Having a good performance measure on the training data is good, but insufficient; the true goal is to perform well on new instances."
   ]
  },
  {
   "cell_type": "markdown",
   "id": "0564f181",
   "metadata": {},
   "source": [
    "#### Instance-based Learning"
   ]
  },
  {
   "cell_type": "markdown",
   "id": "b0afb294",
   "metadata": {},
   "source": [
    "The system learns the examples by heart, then generalizes to new cases by comparing them to the learned examples.\n",
    "* Results of a model are based on the similarity to other data\n",
    "* Most of the pictures are cats, so this must be a cat, too."
   ]
  },
  {
   "cell_type": "markdown",
   "id": "4a4cd43b",
   "metadata": {},
   "source": [
    "#### Model-based Learning"
   ]
  },
  {
   "cell_type": "markdown",
   "id": "de938f16",
   "metadata": {},
   "source": [
    "Build a model from a set of examples, then use that model to make *predictions*.\n",
    "\n",
    "Steps for model-based learning:\n",
    "1. Study the data\n",
    "2. Model Selection - What type of model do you want? Linear Regression? \n",
    "   1. Define Parameters\n",
    "      * By convention, $\\theta$ is used to represent model parameters\n",
    "      * Which variables serve as inputs and which will be the output?\n",
    "   2. Specify a performance measure\n",
    "      * A *utility function* (or *fitness function*) measures how good the model is\n",
    "      * A *cost function* measures how bad the model is\n",
    "3. Train your model\n",
    "   * Train the model based on some data\n",
    "   * Test the model on some unused data\n",
    "4. Run the model to make predictions"
   ]
  },
  {
   "cell_type": "markdown",
   "id": "54081357",
   "metadata": {},
   "source": [
    "## Challenges in Machine Learning"
   ]
  },
  {
   "cell_type": "markdown",
   "id": "9f2ee588",
   "metadata": {},
   "source": [
    "* Bad Algorithm\n",
    "* Bad Data\n",
    "  * Not enough training data\n",
    "    * Missing Data\n",
    "  * Model doesn't represent test data\n",
    "  * Sampling bias - Method of selecting sample is flawed\n",
    "  * Quality Control (units, standardized measurements)\n",
    "  * Irrelevant Features\n",
    "  * Overfitting/Underfitting the data"
   ]
  },
  {
   "cell_type": "code",
   "execution_count": null,
   "id": "1dde6485",
   "metadata": {},
   "outputs": [],
   "source": []
  }
 ],
 "metadata": {
  "kernelspec": {
   "display_name": "Python 3 (ipykernel)",
   "language": "python",
   "name": "python3"
  },
  "language_info": {
   "codemirror_mode": {
    "name": "ipython",
    "version": 3
   },
   "file_extension": ".py",
   "mimetype": "text/x-python",
   "name": "python",
   "nbconvert_exporter": "python",
   "pygments_lexer": "ipython3",
   "version": "3.9.16"
  }
 },
 "nbformat": 4,
 "nbformat_minor": 5
}
