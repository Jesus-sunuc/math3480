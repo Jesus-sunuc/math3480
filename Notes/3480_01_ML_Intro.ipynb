{
 "cells": [
  {
   "cell_type": "markdown",
   "id": "e2b89eea",
   "metadata": {},
   "source": [
    "# Lecture 1 Introduction to Machine Learning\n",
    "__*MATH 3480*__\n",
    "\n",
    "__Outline__\n",
    "1. What is Data Science? What is Machine Learning?\n",
    "2. The Machine Learning Process\n",
    "3. About the course"
   ]
  },
  {
   "cell_type": "markdown",
   "id": "b6b2a1b5",
   "metadata": {},
   "source": [
    "-----\n",
    "## 1. What is Data Science? What is Machine Learning?\n",
    "* A study of efficient algorithms to collect, analyze, and draw conclusions from large datasets\n",
    "  * Tico Bray, Johannes Kepler, and Isaac Newton\n",
    "* Data-driven inquiry\n",
    "* T Model vs. Pi Model\n",
    "\n",
    "In 3080, we learned how to load and wrangle our data. In 3280, we learned how to handle large amounts of data. Machine Learning is the stage everyone enjoys.\n",
    "\n",
    "Machine Learning: Build models from the data. The models also improve as data is added to the model.\n",
    "\n",
    "Why? In the world, we often have equations that explain what will happen (physics and chemistry, for example). There is a function that takes $x$ to $y$. These equations come after others have seen patterns in the data and can find equations that describe the real world. But most often, our data doesn't have equations. So, our job is to see the patterns in the data.\n",
    "* Same role as Johannes Kepler in the example above\n",
    "* Roots in Optimization and Regression\n",
    "\n",
    "Linear Algebra, Optimization, and Statistics and critical aspects of Mathematics that are needed for Machine Learning.\n",
    "\n",
    "We will have a large number of approaches to optimize our data - that is, there is a large collection of modeling methods that we can use\n",
    "* Looking at this large collection is the purpose of this class\n",
    "* Data Science experts are able to determine which models will work given the questions and the data\n",
    "\n",
    "Goals of Data Science:\n",
    "* Can be used in future scenarios (not just for the one dataset you have)\n",
    "* Accurate and Fast\n",
    "* Generalizable - can be used in multiple circumstances\n",
    "    * $F=ma$ is a generalized model that is applied in many circumstances\n",
    "* Interpretability"
   ]
  },
  {
   "cell_type": "markdown",
   "id": "ccc8095b",
   "metadata": {},
   "source": [
    "-----\n",
    "## 2. The Machine Learning Process\n",
    "* Data pre-processing (MATH 3080)\n",
    "\t* Obtain and load the data\n",
    "\t* Clean the data\n",
    "\t* Analyze the data\n",
    "\t* Split into training and testing sets\n",
    "* Modeling (MATH 3480)\n",
    "\t* Build and Train the model\n",
    "\t* Make predictions\n",
    "* Evaluation (MATH 3480)\n",
    "\t* Calculate performance metrics\n",
    "       * Determine if the model is good\n",
    "\n",
    "Demos:\n",
    "* __3480_01a_Demo.ipynb__\n",
    "* __3480_01a_Demo2.ipynb__"
   ]
  },
  {
   "cell_type": "markdown",
   "id": "2549afd2",
   "metadata": {},
   "source": [
    "-----\n",
    "## 3. About the course\n",
    "* Topics we want to cover - see Schedule\n",
    "\n",
    "### DataCamp\n",
    "* Everyone will be sent an email with an invitation to our classroom on DataCamp\n",
    "* Homework assignments will be administered on DataCamp\n",
    "  * Projects will be administered every 2-3 weeks to apply what you are learning\n",
    "* In addition to homework, you will have access to other courses, certification training (and certification exams), competitions, etc.\n",
    "  * Only good for 6 months\n",
    "  * Those continuing on to Math 3280 will receive another invitation to that course to retain access to DataCamp materials"
   ]
  },
  {
   "cell_type": "markdown",
   "id": "90a71a3a",
   "metadata": {},
   "source": []
  }
 ],
 "metadata": {
  "kernelspec": {
   "display_name": "Python 3 (ipykernel)",
   "language": "python",
   "name": "python3"
  },
  "language_info": {
   "codemirror_mode": {
    "name": "ipython",
    "version": 3
   },
   "file_extension": ".py",
   "mimetype": "text/x-python",
   "name": "python",
   "nbconvert_exporter": "python",
   "pygments_lexer": "ipython3",
   "version": "3.9.16"
  }
 },
 "nbformat": 4,
 "nbformat_minor": 5
}
