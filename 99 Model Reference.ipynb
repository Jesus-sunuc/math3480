{
 "cells": [
  {
   "cell_type": "markdown",
   "id": "26f546b2-5083-446a-87f0-1bcef0bd776b",
   "metadata": {},
   "source": [
    "# Cross-validation / Splitting Datasets"
   ]
  },
  {
   "cell_type": "code",
   "execution_count": null,
   "id": "de6dcfba-efd3-4e27-802f-458446066abc",
   "metadata": {},
   "outputs": [],
   "source": [
    "from sklearn.model_selection import train_test_split\n",
    "\n",
    "X_train, X_test, y_train, y_test = train_test_split(X, y, test_size=0.30, random_state=20)\n",
    "     # random_state can be any number - determines the algorithm for random number generation"
   ]
  },
  {
   "cell_type": "markdown",
   "id": "5197f286",
   "metadata": {},
   "source": [
    "-----\n",
    "# Scaling Data"
   ]
  },
  {
   "cell_type": "code",
   "execution_count": null,
   "id": "dd204520",
   "metadata": {},
   "outputs": [],
   "source": [
    "from sklearn.preprocessing import StandardScaler\n",
    "\n",
    "scaler = StandardScaler()\n",
    "scaler.fit(dataset.drop('TARGET CLASS', axis=1))"
   ]
  },
  {
   "cell_type": "markdown",
   "id": "5cff7a6b-c547-4551-8987-3c65ddc65926",
   "metadata": {},
   "source": [
    "-----\n",
    "# Evaluation Metrics"
   ]
  },
  {
   "cell_type": "code",
   "execution_count": null,
   "id": "b5811f6d-4146-46e9-ac18-f1b9d1ebfbb5",
   "metadata": {},
   "outputs": [],
   "source": [
    "# Confusion Matrix\n",
    "from sklearn.metrics import confusion_matrix\n",
    "\n",
    "print(confusion_matrix( y_test, predictions ))"
   ]
  },
  {
   "cell_type": "code",
   "execution_count": null,
   "id": "2dc420ca-e6cd-4f1d-b808-6cf751e2ed6b",
   "metadata": {},
   "outputs": [],
   "source": [
    "# Classification Report\n",
    "from sklearn.metrics import classification_report\n",
    "\n",
    "print(classification_report( y_test, y_predict ))"
   ]
  },
  {
   "cell_type": "code",
   "execution_count": null,
   "id": "26e5e9c0",
   "metadata": {},
   "outputs": [],
   "source": [
    "# Accuracy Score\n",
    "from sklearn.metrics import accuracy_score\n",
    "print(clf.__class__.__name__, accuracy_score(y_test, y_predict))"
   ]
  },
  {
   "cell_type": "markdown",
   "id": "f720501d-f49b-4c7a-b552-cb7370d96afa",
   "metadata": {},
   "source": [
    "# Models"
   ]
  },
  {
   "cell_type": "markdown",
   "id": "d878c8df-c2b5-4e55-86df-e62e33fe51d0",
   "metadata": {},
   "source": [
    "-----\n",
    "### Linear Regression"
   ]
  },
  {
   "cell_type": "code",
   "execution_count": null,
   "id": "54b8b08c-e95b-416f-ad0d-47a39b6e77a7",
   "metadata": {},
   "outputs": [],
   "source": []
  },
  {
   "cell_type": "markdown",
   "id": "1b125eb2-dd29-44be-aa4a-255474287894",
   "metadata": {},
   "source": [
    "-----\n",
    "### Support Vector Machines"
   ]
  },
  {
   "cell_type": "markdown",
   "id": "f3a9cd0c-71ba-46f6-901a-f2c59be0387a",
   "metadata": {},
   "source": [
    "#### Linear Classification"
   ]
  },
  {
   "cell_type": "code",
   "execution_count": null,
   "id": "74412557-6e20-45d4-a34d-18e5de115c68",
   "metadata": {},
   "outputs": [],
   "source": [
    "from sklearn.pipeline import Pipeline\n",
    "from sklearn.preprocessing import StandardScaler\n",
    "from sklearn.svm import LinearSVC\n",
    "\n",
    "svm_clf = Pipeline([\n",
    "    (\"scaler\", StandardScaler()),\n",
    "    (\"linear_svc\", LinearSVC(C=1, loss=\"hinge\"))\n",
    "    ])\n",
    "\n",
    "svm_clf.fit(X_train, y_train)\n",
    "y_predict = svm_clf.predict(X_train)"
   ]
  },
  {
   "cell_type": "markdown",
   "id": "0c1c8be3-bb38-4be8-9dc8-5e55e16b19e6",
   "metadata": {},
   "source": [
    "##### Non-linear Classification"
   ]
  },
  {
   "cell_type": "code",
   "execution_count": null,
   "id": "2e230882-55ec-4dae-8cbc-8e6158c2ed42",
   "metadata": {},
   "outputs": [],
   "source": [
    "# Polynomial Kernel\n",
    "from sklearn.svm import SVC\n",
    "from sklearn.pipeline import Pipeline\n",
    "from sklearn.preprocessing import StandardScaler\n",
    "\n",
    "svm_poly = Pipeline([\n",
    "    (\"scaler\", StandardScaler()),\n",
    "    (\"svm_clf\", SVC(kernel=\"poly\", degree=2, coef0=1, C=5))\n",
    "  ])\n",
    "\n",
    "svm_poly.fit(np.transpose([x,y_train]),s)\n",
    "s_poly = svm_poly.predict(np.transpose([x,y_test]))"
   ]
  },
  {
   "cell_type": "code",
   "execution_count": null,
   "id": "968322d2-c8ad-48fa-8775-7489a1904014",
   "metadata": {},
   "outputs": [],
   "source": [
    "# Gaussian Kernel\n",
    "svm_gauss = Pipeline([\n",
    "    (\"scaler\", StandardScaler()),\n",
    "    (\"svm_clf\", SVC(kernel=\"rbf\", gamma=0.1, C=0.1))\n",
    "  ])\n",
    "\n",
    "svm_gauss.fit(np.transpose([x,y_train]),s)\n",
    "s_gauss = svm_gauss.predict(np.transpose([x,y_test]))"
   ]
  },
  {
   "cell_type": "markdown",
   "id": "f6857634-69d5-48dd-a5be-000a40cd094e",
   "metadata": {},
   "source": [
    "#### Linear Regression"
   ]
  },
  {
   "cell_type": "code",
   "execution_count": null,
   "id": "5c9908e1-0c45-40aa-baf0-23b788d71aed",
   "metadata": {},
   "outputs": [],
   "source": [
    "from sklearn.svm import LinearSVR\n",
    "from sklearn.pipeline import Pipeline\n",
    "from sklearn.preprocessing import StandardScaler\n",
    "\n",
    "svm_reg = Pipeline([\n",
    "    (\"scaler\", StandardScaler()),\n",
    "    (\"lsvr\", LinearSVR(random_state=3, epsilon=1.5))\n",
    "    ])\n",
    "\n",
    "svm_reg.fit(np.transpose([x]),y)\n",
    "reg_coefficient = svm_reg.named_steps['lsvr'].coef_\n",
    "reg_intercept = svm_reg.named_steps['lsvr'].intercept_"
   ]
  },
  {
   "cell_type": "markdown",
   "id": "c64ef848-8f57-4048-9dc2-3daa523127a7",
   "metadata": {},
   "source": [
    "#### Non-linear Regression"
   ]
  },
  {
   "cell_type": "code",
   "execution_count": null,
   "id": "7a2d03db-885e-44fe-bc26-1dda275faf12",
   "metadata": {},
   "outputs": [],
   "source": [
    "from sklearn.svm import LinearSVR\n",
    "from sklearn.pipeline import Pipeline\n",
    "from sklearn.preprocessing import StandardScaler\n",
    "\n",
    "# Choose your kernel\n",
    "svm_reg = Pipeline([\n",
    "    (\"scaler\", StandardScaler()),\n",
    "    (\"lsvr\", SVR(kernel=\"poly\", degree=2, C=random_state=3, epsilon=1.5))\n",
    "    ])\n",
    "\n",
    "svm_reg.fit(np.transpose([x]),y)\n",
    "reg_coefficient = svm_reg.named_steps['lsvr'].coef_\n",
    "reg_intercept = svm_reg.named_steps['lsvr'].intercept_"
   ]
  },
  {
   "cell_type": "markdown",
   "id": "43125fc2",
   "metadata": {},
   "source": [
    "-----\n",
    "### K-Nearest Neighbors"
   ]
  },
  {
   "cell_type": "code",
   "execution_count": null,
   "id": "469cd81c",
   "metadata": {},
   "outputs": [],
   "source": [
    "from sklearn.neighbors import KNeighborsClassifier\n",
    "\n",
    "knn = KNeighborsClassifier(n_neighbors = 3)\n",
    "   # k is determined by the n_neighbors parameter\n",
    "knn.fit(X_train, y_train)\n",
    "knn_predictions = knn.predict(X_test)"
   ]
  },
  {
   "cell_type": "markdown",
   "id": "ee26ff5b-301b-4248-875a-8b9ca91ed020",
   "metadata": {},
   "source": [
    "-----\n",
    "### Decision Trees\n",
    "#### Decision Tree Classification"
   ]
  },
  {
   "cell_type": "code",
   "execution_count": null,
   "id": "f642070a-c1fc-472d-b668-09ef036eeada",
   "metadata": {},
   "outputs": [],
   "source": [
    "from sklearn.tree import DecisionTreeClassifier\n",
    "\n",
    "dtree = DecisionTreeClassifier()\n",
    "dtree.fit(X_train, y_train)\n",
    "dtree_predictions = dtree.predict(X_test)"
   ]
  },
  {
   "cell_type": "code",
   "execution_count": null,
   "id": "215d191b-09e6-4cf4-8615-b9071aa7eec6",
   "metadata": {},
   "outputs": [],
   "source": [
    "# Visualization of Decision Trees\n",
    "# Need to install Pydot and Graphviz\n",
    "  # Graphviz not in pip library - need to install separately\n",
    "  # www.graphviz.org\n",
    "\n",
    "from IPython.display import Image  \n",
    "from sklearn.externals.six import StringIO  \n",
    "from sklearn.tree import export_graphviz\n",
    "import pydot \n",
    "\n",
    "features = list(df.columns[1:])\n",
    "\n",
    "dot_data = StringIO()  \n",
    "export_graphviz(dtree, out_file=dot_data,feature_names=features,filled=True,rounded=True)\n",
    "\n",
    "graph = pydot.graph_from_dot_data(dot_data.getvalue())  \n",
    "Image(graph[0].create_png())  "
   ]
  },
  {
   "cell_type": "markdown",
   "id": "e8b7cd17-e861-41d1-a4bb-123396dc3c95",
   "metadata": {},
   "source": [
    "#### Decision Tree Regression"
   ]
  },
  {
   "cell_type": "code",
   "execution_count": null,
   "id": "70660ef9-65b9-40be-b869-da4e6b05a6ad",
   "metadata": {},
   "outputs": [],
   "source": [
    "from sklearn.tree import DecisionTreeClassifier\n",
    "tree_clf = DecisionTreeClassifier()\n",
    "tree_clf.fit(X_train,y_train)\n",
    "\n",
    "tree_predict = tree_clf.predict(X_test)"
   ]
  },
  {
   "cell_type": "markdown",
   "id": "1fac7320",
   "metadata": {},
   "source": [
    "-----\n",
    "### Ensemble Learning\n",
    "#### Voting Classifier"
   ]
  },
  {
   "cell_type": "code",
   "execution_count": null,
   "id": "b444246b",
   "metadata": {},
   "outputs": [],
   "source": [
    "from sklearn.ensemble import RandomForestClassifier\n",
    "from sklearn.ensemble import VotingClassifier\n",
    "from sklearn.linear_model import LogisticRegression\n",
    "from sklearn.svm import SVC\n",
    "\n",
    "log_clf = LogisticRegression()\n",
    "rnd_clf = RandomForestClassifier()\n",
    "svm_clf = SVC()\n",
    "\n",
    "voting_clf = VotingClassifier(\n",
    "    estimators=[('lr', log_clf), ('rf', rnd_clf), ('svc', svm_clf)],\n",
    "    voting='hard')\n",
    "voting_clf.fit(X_train, y_train)"
   ]
  },
  {
   "cell_type": "markdown",
   "id": "e38dc61f-0feb-470d-b24e-9ddffbb5945a",
   "metadata": {},
   "source": [
    "#### Random Forests"
   ]
  },
  {
   "cell_type": "code",
   "execution_count": null,
   "id": "e0b57c03-5d57-40ff-bd47-70c55787d414",
   "metadata": {},
   "outputs": [],
   "source": [
    "from sklearn.ensemble import RandomForestClassifier\n",
    "\n",
    "rfc = RandomForestClassifier(n_estimators=200)\n",
    "rfc.fit(X_train,y_train)\n",
    "rfc_predictions = rfc.predict(X_test)"
   ]
  },
  {
   "cell_type": "markdown",
   "id": "d800451d-d3e0-4011-b191-ef24601f8445",
   "metadata": {},
   "source": [
    "#### AdaBoost"
   ]
  },
  {
   "cell_type": "code",
   "execution_count": null,
   "id": "ba01ac8f-a1a7-4e42-887e-7a6a03243e81",
   "metadata": {},
   "outputs": [],
   "source": [
    "from sklearn.ensemble import AdaBoostClassifier\n",
    "\n",
    "ada_clf = AdaBoostClassifier(n_estimators=200, learning_rate=0.5)\n",
    "ada_clf.fit(X_train, y_train)\n",
    "y_precidt = ada_clf.predict(X_test)"
   ]
  },
  {
   "cell_type": "markdown",
   "id": "3103a762-964d-4454-871c-e09bb2a63ea8",
   "metadata": {},
   "source": [
    "#### Gradient Boost"
   ]
  },
  {
   "cell_type": "code",
   "execution_count": null,
   "id": "0eb2334c-4fb0-421c-99ac-558ce7e7c38a",
   "metadata": {},
   "outputs": [],
   "source": [
    "from sklearn.ensemble import GradientBoostingRegressor\n",
    "\n",
    "gbr = GradientBoostingRegressor(max_depth=2, n_estimators=5, learning_rate=0.6)\n",
    "gbr.fit(X_train,y_train)\n",
    "y_predict = gbr.predict(X_test)"
   ]
  },
  {
   "cell_type": "markdown",
   "id": "3e5db452",
   "metadata": {},
   "source": [
    "-----\n",
    "## Unsupervised models\n",
    "### K-Means"
   ]
  },
  {
   "cell_type": "code",
   "execution_count": null,
   "id": "d425ae06",
   "metadata": {},
   "outputs": [],
   "source": []
  },
  {
   "cell_type": "markdown",
   "id": "e549c08a",
   "metadata": {},
   "source": [
    "### DBSCAN"
   ]
  },
  {
   "cell_type": "code",
   "execution_count": null,
   "metadata": {},
   "outputs": [],
   "source": []
  },
  {
   "cell_type": "markdown",
   "id": "23c049c2",
   "metadata": {},
   "source": []
  }
 ],
 "metadata": {
  "kernelspec": {
   "display_name": "Python 3 (ipykernel)",
   "language": "python",
   "name": "python3"
  },
  "language_info": {
   "codemirror_mode": {
    "name": "ipython",
    "version": 3
   },
   "file_extension": ".py",
   "mimetype": "text/x-python",
   "name": "python",
   "nbconvert_exporter": "python",
   "pygments_lexer": "ipython3",
   "version": "3.8.9"
  }
 },
 "nbformat": 4,
 "nbformat_minor": 5
}
