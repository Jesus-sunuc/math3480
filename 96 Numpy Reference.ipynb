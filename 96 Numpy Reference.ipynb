{
 "cells": [
  {
   "cell_type": "code",
   "execution_count": null,
   "id": "6ac0de90-1ab7-4f0d-bbeb-51ff26f7aa53",
   "metadata": {},
   "outputs": [],
   "source": [
    "import numpy as np"
   ]
  },
  {
   "cell_type": "markdown",
   "id": "a92bbd69-98ce-4b7f-94ef-0b5b6a415ccd",
   "metadata": {},
   "source": [
    "# Arrays"
   ]
  },
  {
   "cell_type": "code",
   "execution_count": null,
   "id": "b7186977-b1dc-42cb-936e-ea07b385095c",
   "metadata": {},
   "outputs": [],
   "source": [
    "# zeroes or ones\n",
    "np.zeros(n)\n",
    "np.ones(n)\n",
    "\n",
    "# Values between two numbers\n",
    "np.linspace(x_min, x_max, num_of_steps)\n",
    "np.arange(x_min, x_max, x_step)"
   ]
  },
  {
   "cell_type": "code",
   "execution_count": null,
   "id": "6d549bef-7771-455a-a98d-79e0b520fc5a",
   "metadata": {},
   "outputs": [],
   "source": []
  }
 ],
 "metadata": {
  "kernelspec": {
   "display_name": "Python 3 (ipykernel)",
   "language": "python",
   "name": "python3"
  },
  "language_info": {
   "codemirror_mode": {
    "name": "ipython",
    "version": 3
   },
   "file_extension": ".py",
   "mimetype": "text/x-python",
   "name": "python",
   "nbconvert_exporter": "python",
   "pygments_lexer": "ipython3",
   "version": "3.9.2"
  }
 },
 "nbformat": 4,
 "nbformat_minor": 5
}
