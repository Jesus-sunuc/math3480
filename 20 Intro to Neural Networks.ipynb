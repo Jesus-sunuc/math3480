{
 "cells": [
  {
   "cell_type": "markdown",
   "id": "9d9ddc19",
   "metadata": {},
   "source": [
    "# Introduction to Neural Networks\n",
    "#### Math 3480 - Machine Learning - Dr. Michael E. Olson"
   ]
  },
  {
   "cell_type": "markdown",
   "id": "2e7b6de6",
   "metadata": {},
   "source": [
    "## Reading\n",
    "* Brunton, Chapter 6\n",
    "* Geron, Chapters 10-14\n",
    "\n",
    "### Additional Resources\n",
    "* [YouTube: Neuroscientifically Challenged - 2-Minute Neuroscience: The Neuron](https://www.youtube.com/watch?v=6qS83wD29PY)\n",
    "* [YouTube: Mark Rober - Stealing Baseball Signs with a Phone](https://www.youtube.com/watch?v=PmlRbfSavbI)"
   ]
  },
  {
   "cell_type": "markdown",
   "id": "43e0d9f4-073f-48bb-a079-c054fabd5c79",
   "metadata": {},
   "source": [
    "# Basics of Neural Networks\n",
    "Neural Networks are based on the functioning of a neuron. A neuron has:\n",
    "* Dendrites which take in chemicals that explain what is happening\n",
    "* Nucleus which absorbs and interprets the messages in those chemicals\n",
    "* Axon which sends chemicals to the next neuron if the signal is strong enough\n",
    "\n",
    "Similarly, a basic neural network has:\n",
    "* Input which brings information to a neuron\n",
    "* Neuron which gives a value based on the information it receives\n",
    "* Output which sends that information on to the next neuron\n",
    "\n",
    "One neuron is connected to another through *connections*, similar to the axons of a neuron. This feeds the information from one neuron's calculation to be a part of the next neuron's calculation.\n",
    "\n",
    "Each neuron's calculation will produce a value between 0 and 1.\n",
    "\n",
    "## History\n",
    "* The concept of a neural network was first theorized in 1943\n",
    "* Technique of the Perceptron was introduced in 1958 by Frank Rosenblatt\n",
    "  * Belief that ANNs (Artificial Neural Networks) would soon be able to translate languages on the fly\n",
    "* Due to lack in technology and in data, funding failed and focuses shifted to other methods\n",
    "  * \"AI Winter\"\n",
    "* ImageNet 2012 - Large Scale Visual Recognition Challenge\n",
    "  * Reintroduced Neural Networks\n",
    " \n",
    "Today, systems are using ANNs everywhere (e.g. Apple and Google for speech and image recognition).\n",
    "\n",
    "\n",
    "## ANNs Today\n",
    "The result of these neural networks are quite good.\n",
    "* [Mona Lisa can talk!](https://www.youtube.com/watch?v=P2uZF-5F1wI)\n",
    "* [Mark Rober - Stealing Baseball Signs with a Phone](https://www.youtube.com/watch?v=PmlRbfSavbI)\n",
    "\n",
    "Are Neural Networks perfect yet? No...\n",
    "* [Neurabites.com](https://neurabites.com/muffin-or-chihuahua/)\n",
    "\n",
    "## Cautions\n",
    "* ANNs are relatively easy to train. However, because it's so easy, many people are just using ANNs without understanding what is happening under the hood.\n",
    "\n",
    "Some of the issues:\n",
    "* Easy to overfit\n",
    "  * There are some cases where we want very specific results, but it's very easy to overfit\n",
    "* Not very good when we want to generalize things\n",
    "  * Not very good with learning physics (model it to predict where a cannonball lands, but it can't use that to launch a rocket)\n",
    "* Interpretable/Explainable\n",
    "  * The number of neurons adds a large number of degrees of freedom which makes it very expressive\n",
    "  * More degrees of freedom makes it more complicated and harder to interpret\n",
    "* Incorporating Physics\n",
    "  * It is a difficult process to incorporate our knowledge of the real world\n",
    "  * True for all ML Algorithms, but especially for ANNs."
   ]
  },
  {
   "cell_type": "code",
   "execution_count": null,
   "id": "ccf9cec5",
   "metadata": {},
   "outputs": [],
   "source": []
  }
 ],
 "metadata": {
  "kernelspec": {
   "display_name": "Python 3 (ipykernel)",
   "language": "python",
   "name": "python3"
  },
  "language_info": {
   "codemirror_mode": {
    "name": "ipython",
    "version": 3
   },
   "file_extension": ".py",
   "mimetype": "text/x-python",
   "name": "python",
   "nbconvert_exporter": "python",
   "pygments_lexer": "ipython3",
   "version": "3.9.10"
  }
 },
 "nbformat": 4,
 "nbformat_minor": 5
}
